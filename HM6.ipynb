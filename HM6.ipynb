{
 "cells": [
  {
   "cell_type": "markdown",
   "metadata": {},
   "source": [
    "- Создайте класс Point(x, y) x, y - координаты точки на плоскости.\n",
    "- Реализуйте два метода a.distanceTo(b) - евкливодов расстояние между $a$ и $b$\n",
    "- Переопределите __str__ так чтобы при печати экземпляра выводилось (x, y) - то есть координаты точки"
   ]
  },
  {
   "cell_type": "code",
   "execution_count": 1,
   "metadata": {},
   "outputs": [],
   "source": [
    "from math import sqrt\n",
    "class Point:\n",
    "    def __init__(self, x, y):\n",
    "        self.x = x\n",
    "        self.y = y\n",
    "    \n",
    "    def distanceTo(self, other):\n",
    "        return sqrt((self.x - other.x)**2 + (self.y - other.y)**2)\n",
    "    \n",
    "    def __str__(self):\n",
    "        return \"(\" + str(self.x) + \",\" + str(self.y) +  \")\""
   ]
  },
  {
   "cell_type": "code",
   "execution_count": 2,
   "metadata": {},
   "outputs": [
    {
     "data": {
      "text/plain": [
       "1.4142135623730951"
      ]
     },
     "execution_count": 2,
     "metadata": {},
     "output_type": "execute_result"
    }
   ],
   "source": [
    "point1 = Point(1, 2)\n",
    "point2 = Point(2, 3)\n",
    "point1.distanceTo(point2)"
   ]
  },
  {
   "cell_type": "markdown",
   "metadata": {},
   "source": [
    "- После того как Вы создадите класс запустите следующий код"
   ]
  },
  {
   "cell_type": "code",
   "execution_count": 3,
   "metadata": {},
   "outputs": [],
   "source": [
    "import random\n",
    "random.seed(42)\n",
    "points = list()\n",
    "for i in range(1000):\n",
    "    x = random.randint(1, 100)\n",
    "    y = random.randint(1, 100)\n",
    "    points.append(Point(x, y))"
   ]
  },
  {
   "cell_type": "markdown",
   "metadata": {},
   "source": [
    "- Напишите метод, который определит у какой из заданых точек больше всего соседей в радиусе 5.\n",
    "- Если таких точек несколько, то тогда выведите точку с наименьше суммой координат, если таких точек несколько, то выведите точку с наименьше абсциссой."
   ]
  },
  {
   "cell_type": "code",
   "execution_count": 4,
   "metadata": {},
   "outputs": [],
   "source": [
    "def radius_5 (mass):\n",
    "    my_count = 0\n",
    "    max_num = 0\n",
    "    max_point = Point(0,0)\n",
    "    for i in range(len(mass)):\n",
    "        my_count = 0\n",
    "        for j in range(len(mass)):\n",
    "            if i != j:\n",
    "                if mass[i].distanceTo(mass[j]) <= 5:\n",
    "                    my_count += 1\n",
    "        if my_count > max_num:\n",
    "            max_point = mass[i]\n",
    "            max_num = my_count\n",
    "        elif my_count == max_num:\n",
    "            max_point = find_max(max_point, mass[i])\n",
    "    print(max_point)"
   ]
  },
  {
   "cell_type": "code",
   "execution_count": 8,
   "metadata": {},
   "outputs": [],
   "source": [
    "def find_max (x, y):\n",
    "    if (x.x + x.y) < (y.x + y.y):\n",
    "        return x\n",
    "    elif (x.x + x.y) > (y.x + y.y):\n",
    "        return y\n",
    "    elif x.x < y.x:\n",
    "        return x\n",
    "    else:\n",
    "        return y"
   ]
  },
  {
   "cell_type": "code",
   "execution_count": 10,
   "metadata": {},
   "outputs": [
    {
     "name": "stdout",
     "output_type": "stream",
     "text": [
      "(12,61)\n"
     ]
    }
   ],
   "source": [
    "radius_5(points)"
   ]
  }
 ],
 "metadata": {
  "kernelspec": {
   "display_name": "Python 3 (ipykernel)",
   "language": "python",
   "name": "python3"
  },
  "language_info": {
   "codemirror_mode": {
    "name": "ipython",
    "version": 3
   },
   "file_extension": ".py",
   "mimetype": "text/x-python",
   "name": "python",
   "nbconvert_exporter": "python",
   "pygments_lexer": "ipython3",
   "version": "3.8.10"
  }
 },
 "nbformat": 4,
 "nbformat_minor": 4
}
