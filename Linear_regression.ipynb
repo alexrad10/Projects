{
 "cells": [
  {
   "cell_type": "code",
   "execution_count": 1,
   "id": "808bf2ba",
   "metadata": {},
   "outputs": [],
   "source": [
    "import pandas as pd\n",
    "import numpy as np"
   ]
  },
  {
   "cell_type": "code",
   "execution_count": 2,
   "id": "79aa0851",
   "metadata": {},
   "outputs": [],
   "source": [
    "df = pd.read_csv('data.csv')"
   ]
  },
  {
   "cell_type": "code",
   "execution_count": 3,
   "id": "5a77e53a",
   "metadata": {},
   "outputs": [],
   "source": [
    "df.columns = df.columns.str.lower().str.replace(' ','_')"
   ]
  },
  {
   "cell_type": "code",
   "execution_count": 4,
   "id": "996b6acf",
   "metadata": {},
   "outputs": [],
   "source": [
    "df = df[list(df.dtypes[df.dtypes != object].index)]"
   ]
  },
  {
   "cell_type": "code",
   "execution_count": 5,
   "id": "fba4a025",
   "metadata": {},
   "outputs": [],
   "source": [
    "all_col = list(df.dtypes.index)\n",
    "for col in all_col:\n",
    "    if True in df[col].isnull():\n",
    "        df[col] = df[col].fillna(df[col].mean())"
   ]
  },
  {
   "cell_type": "code",
   "execution_count": 6,
   "id": "5e11a5e7",
   "metadata": {},
   "outputs": [],
   "source": [
    "n = len(df)\n",
    "n_train = int(n*0.6)\n",
    "n_val = int(n*0.2)\n",
    "n_test = n - n_val - n_train"
   ]
  },
  {
   "cell_type": "code",
   "execution_count": 7,
   "id": "2addbf1d",
   "metadata": {},
   "outputs": [],
   "source": [
    "mix = np.arange(n)\n",
    "np.random.seed(2)\n",
    "np.random.shuffle(mix)"
   ]
  },
  {
   "cell_type": "code",
   "execution_count": 8,
   "id": "d1952e65",
   "metadata": {},
   "outputs": [],
   "source": [
    "df_train = df.iloc[mix[:n_train]]\n",
    "df_val = df.iloc[mix[n_train:n_train + n_val]]\n",
    "df_test = df.iloc[mix[n_train + n_val:]]"
   ]
  },
  {
   "cell_type": "code",
   "execution_count": 9,
   "id": "0c581455",
   "metadata": {},
   "outputs": [],
   "source": [
    "df_train = df_train.reset_index(drop = True)\n",
    "val_train = np.log1p(df_train.msrp.values)\n",
    "df_train = df_train.drop(['msrp'], axis=1)"
   ]
  },
  {
   "cell_type": "code",
   "execution_count": 10,
   "id": "894e649e",
   "metadata": {
    "scrolled": true
   },
   "outputs": [],
   "source": [
    "X = (df_train[list(df_train.dtypes.index)].values)\n",
    "X = np.column_stack((np.ones(np.shape(X)[0]),X))"
   ]
  },
  {
   "cell_type": "code",
   "execution_count": 11,
   "id": "57daf3c1",
   "metadata": {},
   "outputs": [],
   "source": [
    "new_mat = (X.T).dot(X)\n",
    "new_mat = np.linalg.inv(new_mat)\n",
    "new_mat = new_mat.dot(X.T)\n",
    "w = new_mat.dot(val_train)"
   ]
  },
  {
   "cell_type": "code",
   "execution_count": 12,
   "id": "fbe0ac2b",
   "metadata": {},
   "outputs": [],
   "source": [
    "df_test = df_test.reset_index(drop = True)\n",
    "val_test = np.log1p(df_test.msrp.values)\n",
    "df_test = df_test.drop(['msrp'], axis=1)"
   ]
  },
  {
   "cell_type": "code",
   "execution_count": 13,
   "id": "71f0696c",
   "metadata": {},
   "outputs": [],
   "source": [
    "Y = (df_test[list(df_test.dtypes.index)].values)\n",
    "Y = np.column_stack((np.ones(np.shape(Y)[0]),Y))"
   ]
  },
  {
   "cell_type": "code",
   "execution_count": 14,
   "id": "9a0a32ce",
   "metadata": {},
   "outputs": [
    {
     "data": {
      "text/plain": [
       "0.3823540812901699"
      ]
     },
     "execution_count": 14,
     "metadata": {},
     "output_type": "execute_result"
    }
   ],
   "source": [
    "result = Y.dot(w)\n",
    "error = abs(result - val_test).mean()\n",
    "error"
   ]
  },
  {
   "cell_type": "code",
   "execution_count": 15,
   "id": "6d83036a",
   "metadata": {},
   "outputs": [
    {
     "data": {
      "text/plain": [
       "14991.079247428317"
      ]
     },
     "execution_count": 15,
     "metadata": {},
     "output_type": "execute_result"
    }
   ],
   "source": [
    "error2 = abs(np.expm1(result) - np.expm1(val_test)).mean()\n",
    "error2"
   ]
  }
 ],
 "metadata": {
  "kernelspec": {
   "display_name": "Python 3 (ipykernel)",
   "language": "python",
   "name": "python3"
  },
  "language_info": {
   "codemirror_mode": {
    "name": "ipython",
    "version": 3
   },
   "file_extension": ".py",
   "mimetype": "text/x-python",
   "name": "python",
   "nbconvert_exporter": "python",
   "pygments_lexer": "ipython3",
   "version": "3.8.10"
  }
 },
 "nbformat": 4,
 "nbformat_minor": 5
}
